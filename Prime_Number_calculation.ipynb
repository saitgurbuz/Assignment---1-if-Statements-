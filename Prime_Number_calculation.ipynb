{
 "cells": [
  {
   "cell_type": "code",
   "execution_count": 1,
   "metadata": {},
   "outputs": [
    {
     "name": "stdout",
     "output_type": "stream",
     "text": [
      "enter a number to check if it is a prime or not:12\n",
      "12 is not a prime number.\n"
     ]
    }
   ],
   "source": [
    "#### solution_1\n",
    "n = int(input(\"enter a number to check if it is a prime or not:\"))\n",
    "\n",
    "count = 0\n",
    "\n",
    "for i in range(1, n+1) :\n",
    "    if not (n % i) :\n",
    "        count += 1\n",
    "\n",
    "if (n == 0) or (n == 1) or (count >=3) : \n",
    "    print(n, \"is not a prime number.\")\n",
    "else : \n",
    "    print(n, \"is a prime number\")"
   ]
  },
  {
   "cell_type": "code",
   "execution_count": 8,
   "metadata": {},
   "outputs": [],
   "source": []
  },
  {
   "cell_type": "code",
   "execution_count": null,
   "metadata": {},
   "outputs": [],
   "source": []
  }
 ],
 "metadata": {
  "kernelspec": {
   "display_name": "Python 3",
   "language": "python",
   "name": "python3"
  },
  "language_info": {
   "codemirror_mode": {
    "name": "ipython",
    "version": 3
   },
   "file_extension": ".py",
   "mimetype": "text/x-python",
   "name": "python",
   "nbconvert_exporter": "python",
   "pygments_lexer": "ipython3",
   "version": "3.7.6"
  }
 },
 "nbformat": 4,
 "nbformat_minor": 4
}
